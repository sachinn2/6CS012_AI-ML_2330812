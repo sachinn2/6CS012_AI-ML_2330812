{
  "nbformat": 4,
  "nbformat_minor": 0,
  "metadata": {
    "colab": {
      "provenance": []
    },
    "kernelspec": {
      "name": "python3",
      "display_name": "Python 3"
    },
    "language_info": {
      "name": "python"
    }
  },
  "cells": [
    {
      "cell_type": "markdown",
      "source": [
        "##Task 1: Unit Conversion\n"
      ],
      "metadata": {
        "id": "tdKO29DNsVlB"
      }
    },
    {
      "cell_type": "code",
      "execution_count": null,
      "metadata": {
        "colab": {
          "base_uri": "https://localhost:8080/"
        },
        "id": "DWgKv6NRsArS",
        "outputId": "d5176587-64c8-40b6-c047-48381650a1e4"
      },
      "outputs": [
        {
          "output_type": "stream",
          "name": "stdout",
          "text": [
            "Choose Unit Conversion Type!\n",
            "1. Length (meters <-> feet)\n",
            "2. Weight (kilograms <-> pounds)\n",
            "3. Volume (liters <-> gallons)\n",
            "Enter your choice (1, 2 0r 3): 2\n",
            "Enter value: 60\n",
            "Enter unit (kg/lb): kg\n",
            "60.0 kilograms = 132.2772 pounds\n"
          ]
        }
      ],
      "source": [
        "def unit_conversion():\n",
        "  \"\"\"\n",
        "  This function converts units between different units.\n",
        "  \"\"\"\n",
        "  print(\"Choose Unit Conversion Type!\")\n",
        "  print(\"1. Length (meters <-> feet)\")\n",
        "  print(\"2. Weight (kilograms <-> pounds)\")\n",
        "  print(\"3. Volume (liters <-> gallons)\")\n",
        "\n",
        "  try:\n",
        "    userin = int(input(\"Enter your choice (1, 2 0r 3): \"))\n",
        "\n",
        "    if userin == 1:\n",
        "      val = float(input(\"Enter value: \"))\n",
        "      unit = input(\"Enter unit (m/ft): \").lower()\n",
        "\n",
        "      if unit == \"m\":\n",
        "        print(f\"{val} meters = {val * 3.28084} feet\")\n",
        "      elif unit == \"ft\":\n",
        "        print(f\"{val} feet = {val / 3.28084} meters\")\n",
        "      else:\n",
        "        print(\"Invalid unit!\")\n",
        "\n",
        "\n",
        "    elif userin == 2:\n",
        "      val = float(input(\"Enter value: \"))\n",
        "      unit = input(\"Enter unit (kg/lb): \").lower()\n",
        "\n",
        "      if unit == \"kg\":\n",
        "        print(f\"{val} kilograms = {val * 2.20462} pounds\")\n",
        "      elif unit == \"lb\":\n",
        "        print(f\"{val} pounds = {val / 2.20462} kilograms\")\n",
        "      else:\n",
        "        print(\"Invalid unit!\")\n",
        "\n",
        "\n",
        "    elif userin == 3:\n",
        "      val = float(input(\"Enter value: \"))\n",
        "      unit = input(\"Enter unit (l/gal): \").lower()\n",
        "\n",
        "      if unit == \"l\":\n",
        "        print(f\"{val} liters = {val * 0.264172} gallons\")\n",
        "      elif unit == \"gal\":\n",
        "        print(f\"{val} gallons = {val / 0.264172} liters\")\n",
        "      else:\n",
        "        print(\"Invalid unit!\")\n",
        "\n",
        "\n",
        "    else:\n",
        "      print(\"Invalid choice!\")\n",
        "\n",
        "  except ValueError:\n",
        "      print(\"Invalid input. Please enter a number.\")\n",
        "\n",
        "unit_conversion()"
      ]
    },
    {
      "cell_type": "markdown",
      "source": [
        "##Task 2: Mathematical Operations"
      ],
      "metadata": {
        "id": "HL-braolxWRE"
      }
    },
    {
      "cell_type": "code",
      "source": [
        "def operations():\n",
        "  \"\"\"\n",
        "  This function performs mathematical operations on a list of numbers.\n",
        "  \"\"\"\n",
        "\n",
        "  try:\n",
        "    operatenum = list(map(float, input(\"Enter numbers separated by spaces: \").split()))\n",
        "    if not operatenum:\n",
        "      raise ValueError(\"List is empty!!\")\n",
        "\n",
        "    print(\"Choose Mathematical Operation: \")\n",
        "    print(\"1. Sum\")\n",
        "    print(\"2. Average\")\n",
        "    print(\"3. Maximum\")\n",
        "    print(\"4. Minimum\")\n",
        "\n",
        "    userin = int(input(\"Enter your choice (1, 2, 3 or 4): \"))\n",
        "\n",
        "    if userin == 1:\n",
        "      print(f\"Sum: {sum(operatenum)}\")\n",
        "    elif userin == 2:\n",
        "      print(f\"Average: {sum(operatenum) / len(operatenum)}\")\n",
        "    elif userin == 3:\n",
        "      print(f\"Maximum: {max(operatenum)}\")\n",
        "    elif userin == 4:\n",
        "      print(f\"Minimum: {min(operatenum)}\")\n",
        "    else:\n",
        "      print(\"Invalid choice!\")\n",
        "\n",
        "  except ValueError as e:\n",
        "    print(f\"Error: {e}\")\n",
        "\n",
        "operations()\n"
      ],
      "metadata": {
        "colab": {
          "base_uri": "https://localhost:8080/"
        },
        "id": "1si9IwL3xfiC",
        "outputId": "9aa600ae-fbf2-4ae3-b6b5-997d28f61282"
      },
      "execution_count": null,
      "outputs": [
        {
          "output_type": "stream",
          "name": "stdout",
          "text": [
            "Enter numbers separated by spaces: 4 2 8 15\n",
            "Choose Mathematical Operation: \n",
            "1. Sum\n",
            "2. Average\n",
            "3. Maximum\n",
            "4. Minimum\n",
            "Enter your choice (1, 2, 3 or 4): 1\n",
            "Sum: 29.0\n"
          ]
        }
      ]
    },
    {
      "cell_type": "markdown",
      "source": [
        "##Task 3: List Manipulation"
      ],
      "metadata": {
        "id": "gsm-8XUbz3k-"
      }
    },
    {
      "cell_type": "code",
      "source": [
        "def extract_every_other(lst):\n",
        "  return lst[::2]\n",
        "\n",
        "def get_sublist(lst, start, end):\n",
        "  return lst[start:end+1]\n",
        "\n",
        "def reverse_list(lst):\n",
        "  return lst[::-1]\n",
        "\n",
        "def remove_first_last(lst):\n",
        "  return lst[1:-1]\n",
        "\n",
        "def get_first_n(lst, n):\n",
        "  return lst[:n]\n",
        "\n",
        "def get_last_n(lst, n):\n",
        "  return lst[-n:]\n",
        "\n",
        "def reverse_skip(lst):\n",
        "  return lst[::-2]\n",
        "\n",
        "if __name__ == \"__main__\":\n",
        "  user_lst = list(map(int, input(\"Enter a list of numbers separated by spaces: \").split()))\n",
        "  print(\"Original List:\", user_lst)\n",
        "\n",
        "  print(\"Extracted every other element:\", extract_every_other(user_lst))\n",
        "  start, end = map(int, input(\"Enter start and end indices (space-separated): \").split())\n",
        "  print(f\"Sublist from index {start} to {end}:\", get_sublist(user_lst, start, end))\n",
        "\n",
        "  print(\"Reversed List:\", reverse_list(user_lst))\n",
        "\n",
        "  print(\"List after removing first and last elements:\", remove_first_last(user_lst))\n",
        "\n",
        "  n = int(input(\"Enter the value of n: \"))\n",
        "  print(f\"First {n} elements:\", get_first_n(user_lst, n))\n",
        "\n",
        "  print(f\"Last {n} elements:\", get_last_n(user_lst, n))\n",
        "\n",
        "  print(\"Reversed List with Skipped Elements:\", reverse_skip(user_lst))"
      ],
      "metadata": {
        "colab": {
          "base_uri": "https://localhost:8080/"
        },
        "id": "HBpXMHVWz8oP",
        "outputId": "2029fc2b-e19e-48ec-bfcd-3d3f631c21a8"
      },
      "execution_count": null,
      "outputs": [
        {
          "output_type": "stream",
          "name": "stdout",
          "text": [
            "Enter a list of numbers separated by spaces: 4 2 8 15 6 23\n",
            "Original List: [4, 2, 8, 15, 6, 23]\n",
            "Extracted every other element: [4, 8, 6]\n",
            "Enter start and end indices (space-separated): 0 3\n",
            "Sublist from index 0 to 3: [4, 2, 8, 15]\n",
            "Reversed List: [23, 6, 15, 8, 2, 4]\n",
            "List after removing first and last elements: [2, 8, 15, 6]\n",
            "Enter the value of n: 2\n",
            "First 2 elements: [4, 2]\n",
            "Last 2 elements: [6, 23]\n",
            "Reversed List with Skipped Elements: [23, 15, 2]\n"
          ]
        }
      ]
    },
    {
      "cell_type": "markdown",
      "source": [
        "##Task 4: Nested List"
      ],
      "metadata": {
        "id": "oH0cxeSO6rp4"
      }
    },
    {
      "cell_type": "code",
      "source": [
        "def flatten(lst):\n",
        "  flat_list = []\n",
        "  for item in lst:\n",
        "    if isinstance(item, list):\n",
        "      flat_list.extend(flatten(item))\n",
        "    else:\n",
        "      flat_list.append(item)\n",
        "  return flat_list\n",
        "\n",
        "def access_nested_element(lst, indices):\n",
        "    for index in indices:\n",
        "        lst = lst[index]\n",
        "    return lst\n",
        "\n",
        "def sum_nested(lst):\n",
        "    return sum(flatten(lst))\n",
        "\n",
        "def remove_element(lst, elem):\n",
        "    return [[x for x in sublist if x != elem] for sublist in lst]\n",
        "\n",
        "def find_max(lst):\n",
        "    return builtins.max(flatten(lst))\n",
        "\n",
        "def count_occurrences(lst, elem):\n",
        "    return flatten(lst).count(elem)\n",
        "\n",
        "def deep_flatten(lst):\n",
        "    return flatten(lst)\n",
        "\n",
        "def average_nested(lst):\n",
        "    flat = flatten(lst)\n",
        "    return sum(flat) / len(flat)\n",
        "import builtins\n",
        "\n",
        "\n",
        "nested_lst = [[1, 2], [3, [4, 5]], 6]\n",
        "print(\"Flattened list:\", flatten(nested_lst))\n",
        "print(\"Accessing [1, 2]:\", access_nested_element([[1, 2, 3], [4, 5, 6], [7, 8, 9]], [1, 2]))\n",
        "print(\"Sum of elements:\", sum_nested(nested_lst))\n",
        "print(\"Remove 2:\", remove_element([[1, 2], [3, 2], [4, 5]], 2))\n",
        "print(\"Max element:\", find_max(nested_lst))\n",
        "print(\"Count 2:\", count_occurrences([[1, 2], [2, 3], [2, 4]], 2))\n",
        "print(\"Deep Flatten:\", deep_flatten([[[1, 2], [3, 4]], [[5, 6], [7, 8]]]))\n",
        "print(\"Average:\", average_nested([[1, 2], [3, 4], [5, 6]]))"
      ],
      "metadata": {
        "colab": {
          "base_uri": "https://localhost:8080/"
        },
        "id": "qa8LalrB6xDd",
        "outputId": "426ee1c1-c5c7-4b44-f897-7b8d26a7163f"
      },
      "execution_count": null,
      "outputs": [
        {
          "output_type": "stream",
          "name": "stdout",
          "text": [
            "Flattened list: [1, 2, 3, 4, 5, 6]\n",
            "Accessing [1, 2]: 6\n",
            "Sum of elements: 21\n",
            "Remove 2: [[1], [3], [4, 5]]\n",
            "Max element: 6\n",
            "Count 2: 3\n",
            "Deep Flatten: [1, 2, 3, 4, 5, 6, 7, 8]\n",
            "Average: 3.5\n"
          ]
        }
      ]
    },
    {
      "cell_type": "markdown",
      "source": [
        "##Problem 1: Array Creation"
      ],
      "metadata": {
        "id": "9yWpzEkwN7tH"
      }
    },
    {
      "cell_type": "code",
      "source": [
        "import numpy as np\n",
        "\n",
        "emptyarr = np.empty((2,2))\n",
        "print(\"Empty Array: \\n\",emptyarr)\n",
        "\n",
        "onearr = np.ones((4,2))\n",
        "print(\"One Array: \\n\",onearr)\n",
        "\n",
        "filledarr = np.full((3,3),15)\n",
        "print(\"Filled Array: \\n\",filledarr)\n",
        "\n",
        "referencearr = np.array([[1,2,3],[4,5,6]])\n",
        "zeros_like_arr = np.zeros_like(referencearr)\n",
        "print(\"Zeros Like Array: \\n\",zeros_like_arr)\n",
        "\n",
        "ones_like_arr = np.ones_like(referencearr)\n",
        "print(\"Ones Like Array: \\n\",ones_like_arr)\n",
        "\n",
        "new_list = [1,2,3,4]\n",
        "numpy_array = np.array(new_list)\n",
        "print(\"Numpy Array: \\n\",numpy_array)"
      ],
      "metadata": {
        "colab": {
          "base_uri": "https://localhost:8080/"
        },
        "id": "mLEvcpS4OFKC",
        "outputId": "7cb1c55c-8c20-4988-b8dc-2ed2be256f01"
      },
      "execution_count": null,
      "outputs": [
        {
          "output_type": "stream",
          "name": "stdout",
          "text": [
            "Empty Array: \n",
            " [[4.9e-324 9.9e-324]\n",
            " [1.5e-323 2.0e-323]]\n",
            "One Array: \n",
            " [[1. 1.]\n",
            " [1. 1.]\n",
            " [1. 1.]\n",
            " [1. 1.]]\n",
            "Filled Array: \n",
            " [[15 15 15]\n",
            " [15 15 15]\n",
            " [15 15 15]]\n",
            "Zeros Like Array: \n",
            " [[0 0 0]\n",
            " [0 0 0]]\n",
            "Ones Like Array: \n",
            " [[1 1 1]\n",
            " [1 1 1]]\n",
            "Numpy Array: \n",
            " [1 2 3 4]\n"
          ]
        }
      ]
    },
    {
      "cell_type": "markdown",
      "source": [
        "##Problem 2: Array Manipulation"
      ],
      "metadata": {
        "id": "eOjMCPaKYemi"
      }
    },
    {
      "cell_type": "code",
      "source": [
        "import numpy as np\n",
        "\n",
        "arr_10_to_49 = np.arange(10,50)\n",
        "print(\"Array with values from 10 to 49: \\n\",arr_10_to_49)\n",
        "mat_3 = np.arange(9).reshape(3,3)\n",
        "print(\"3*3 Matrix: \",mat_3)\n",
        "\n",
        "identity_matrix = np.eye(3)\n",
        "print(\"3*3 Identity Matrix: \\n\",identity_matrix)\n",
        "\n",
        "randomarr = np.random.random(30)\n",
        "mean = randomarr.mean()\n",
        "print(\"Random array of size 30: \\n\", randomarr)\n",
        "print(\"Mean of Random Array: \",mean)\n",
        "\n",
        "random_10 = np.random.random((10,10))\n",
        "min_val = random_10.min()\n",
        "max_val = random_10.max()\n",
        "print(\"Minimum Value: \",min_val)\n",
        "print(\"Maximum Value: \",max_val)\n",
        "\n",
        "zeroarr = np.zeros(10)\n",
        "zeroarr[4] = 1\n",
        "print(\"Array with value 1 at index 4: \",zeroarr)\n",
        "\n",
        "arr = np.array([1,2,0,0,4,0])\n",
        "reversedarr = arr[::-1]\n",
        "print(\"Reversed Array: \",reversedarr)\n",
        "\n",
        "borderarr = np.ones((5,5))\n",
        "borderarr[1:-1, 1:-1] = 0\n",
        "print(\"Bordered Array: \\\\n\",borderarr)\n",
        "\n",
        "checkerboard = np.zeros((8,8))\n",
        "checkerboard[1::2, ::2] = 1\n",
        "checkerboard[::2, 1::2] = 1\n",
        "print(\"Checkerboard Pattern: \\\\n\",checkerboard)"
      ],
      "metadata": {
        "colab": {
          "base_uri": "https://localhost:8080/"
        },
        "id": "S4FD8YYgYxiJ",
        "outputId": "ef635f15-3e68-4318-8fe0-d4827456662c"
      },
      "execution_count": null,
      "outputs": [
        {
          "output_type": "stream",
          "name": "stdout",
          "text": [
            "Array with values from 10 to 49: \n",
            " [10 11 12 13 14 15 16 17 18 19 20 21 22 23 24 25 26 27 28 29 30 31 32 33\n",
            " 34 35 36 37 38 39 40 41 42 43 44 45 46 47 48 49]\n",
            "3*3 Matrix:  [[0 1 2]\n",
            " [3 4 5]\n",
            " [6 7 8]]\n",
            "3*3 Identity Matrix: \n",
            " [[1. 0. 0.]\n",
            " [0. 1. 0.]\n",
            " [0. 0. 1.]]\n",
            "Random array of size 30: \n",
            " [0.94052385 0.6839488  0.49673443 0.81590817 0.05415001 0.8134597\n",
            " 0.39971137 0.691331   0.09517584 0.73013872 0.96082425 0.76445051\n",
            " 0.29199596 0.3996023  0.50063738 0.95796202 0.24127178 0.75984626\n",
            " 0.97452427 0.71978124 0.88865663 0.75510177 0.78461823 0.56577081\n",
            " 0.83196342 0.68568791 0.70275456 0.25125678 0.15532234 0.84550824]\n",
            "Mean of Random Array:  0.6252872849101323\n",
            "Minimum Value:  0.00287319127079122\n",
            "Maximum Value:  0.9925289760733117\n",
            "Array with value 1 at index 4:  [0. 0. 0. 0. 1. 0. 0. 0. 0. 0.]\n",
            "Reversed Array:  [0 4 0 0 2 1]\n",
            "Bordered Array: \\n [[1. 1. 1. 1. 1.]\n",
            " [1. 0. 0. 0. 1.]\n",
            " [1. 0. 0. 0. 1.]\n",
            " [1. 0. 0. 0. 1.]\n",
            " [1. 1. 1. 1. 1.]]\n",
            "Checkerboard Pattern: \\n [[0. 1. 0. 1. 0. 1. 0. 1.]\n",
            " [1. 0. 1. 0. 1. 0. 1. 0.]\n",
            " [0. 1. 0. 1. 0. 1. 0. 1.]\n",
            " [1. 0. 1. 0. 1. 0. 1. 0.]\n",
            " [0. 1. 0. 1. 0. 1. 0. 1.]\n",
            " [1. 0. 1. 0. 1. 0. 1. 0.]\n",
            " [0. 1. 0. 1. 0. 1. 0. 1.]\n",
            " [1. 0. 1. 0. 1. 0. 1. 0.]]\n"
          ]
        }
      ]
    },
    {
      "cell_type": "markdown",
      "source": [
        "##Problem 3: Array Operations"
      ],
      "metadata": {
        "id": "7rdaFWzejFKT"
      }
    },
    {
      "cell_type": "code",
      "source": [
        "x = np.array([[1,2],[3,5]])\n",
        "y = np.array([[5,6],[7,8]])\n",
        "v = np.array([9,10])\n",
        "w = np.array([11,12])\n",
        "\n",
        "matadd = x+y\n",
        "print(\"Addition of x and y: \\n\",matadd)\n",
        "\n",
        "matsub = x-y\n",
        "print(\"Subtraction of x and y: \\n\",matsub)\n",
        "\n",
        "matmulx = x*2\n",
        "print(\"Multiplication of x by 2: \\n\",matmulx)\n",
        "\n",
        "matsqx = np.square(x)\n",
        "print(\"Square of x: \\n\",matsqx)\n",
        "\n",
        "dotvw = np.dot(v,w)\n",
        "dotxv = np.dot(x,v)\n",
        "dotxy = np.dot(x,y)\n",
        "\n",
        "print(\"Dot Product of v and w: \",dotvw)\n",
        "print(\"Dot Product of x and v: \",dotxv)\n",
        "print(\"Dot Product of x and y: \\n\",dotxy)\n",
        "\n",
        "concatxy_row = np.concatenate((x,y), axis = 0)\n",
        "concatvw_col = np.vstack((v,w))\n",
        "\n",
        "print(\"Concatenation of x and y row-wise: \\n\",concatxy_row)\n",
        "print(\"Concatenation of v and w column-wise: \\n\",concatvw_col)\n",
        "\n",
        "try:\n",
        "  concatxv = np.concatenate((x,v), axis = 0)\n",
        "  print(\"Concatenation of x and v row-wise: \\n\",concatxv)\n",
        "except ValueError as e:\n",
        "  print(\"Error: \",e)\n",
        "  print(\"Concatenation of x and v row-wise is not possible as shapes of x (2*2) and v (1*2) do not match along the concenation axis.\")"
      ],
      "metadata": {
        "colab": {
          "base_uri": "https://localhost:8080/"
        },
        "id": "J3arSNiAjKIb",
        "outputId": "00072dbe-1324-4be4-d4d8-67bcd6eb7b0d"
      },
      "execution_count": null,
      "outputs": [
        {
          "output_type": "stream",
          "name": "stdout",
          "text": [
            "Addition of x and y: \n",
            " [[ 6  8]\n",
            " [10 13]]\n",
            "Subtraction of x and y: \n",
            " [[-4 -4]\n",
            " [-4 -3]]\n",
            "Multiplication of x by 2: \n",
            " [[ 2  4]\n",
            " [ 6 10]]\n",
            "Square of x: \n",
            " [[ 1  4]\n",
            " [ 9 25]]\n",
            "Dot Product of v and w:  219\n",
            "Dot Product of x and v:  [29 77]\n",
            "Dot Product of x and y: \n",
            " [[19 22]\n",
            " [50 58]]\n",
            "Concatenation of x and y row-wise: \n",
            " [[1 2]\n",
            " [3 5]\n",
            " [5 6]\n",
            " [7 8]]\n",
            "Concatenation of v and w column-wise: \n",
            " [[ 9 10]\n",
            " [11 12]]\n",
            "Error:  all the input arrays must have same number of dimensions, but the array at index 0 has 2 dimension(s) and the array at index 1 has 1 dimension(s)\n",
            "Concatenation of x and v row-wise is not possible as shapes of x (2*2) and v (1*2) do not match along the concenation axis.\n"
          ]
        }
      ]
    },
    {
      "cell_type": "markdown",
      "source": [
        "##Problem - 4: Matrix Operations"
      ],
      "metadata": {
        "id": "VDgZyAhFldbE"
      }
    },
    {
      "cell_type": "code",
      "source": [
        "import numpy as np\n",
        "\n",
        "\n",
        "A = np.array([[3, 4], [7, 8]])\n",
        "B = np.array([[5, 3], [2, 1]])\n",
        "\n",
        "# 1. Prove A * A^(-1) = I\n",
        "A_inv = np.linalg.inv(A)\n",
        "identity_matrix = np.dot(A, A_inv)\n",
        "print(\"A * A^(-1):\\n\", identity_matrix)\n",
        "\n",
        "# 2. Prove AB ≠ BA\n",
        "AB = np.dot(A, B)\n",
        "BA = np.dot(B, A)\n",
        "print(\"AB:\\n\", AB)\n",
        "print(\"BA:\\n\", BA)\n",
        "print(\"AB == BA:\", np.array_equal(AB, BA))\n",
        "\n",
        "# 3. Prove (AB)^T = B^T * A^T\n",
        "AB_T = np.transpose(AB)\n",
        "B_T_A_T = np.dot(np.transpose(B), np.transpose(A))\n",
        "print(\"(AB)^T:\\n\", AB_T)\n",
        "print(\"B^T * A^T:\\n\", B_T_A_T)\n",
        "print(\"(AB)^T == B^T * A^T:\", np.array_equal(AB_T, B_T_A_T))\n",
        "\n",
        "# Solve system of linear equations using inverse method\n",
        "A_eq = np.array([[2, -3, 1], [1, -1, 2], [3, 1, -1]])\n",
        "B_eq = np.array([-1, -3, 9])\n",
        "\n",
        "# Solve for X (AX = B) using inverse method\n",
        "A_inv_eq = np.linalg.inv(A_eq)\n",
        "X = np.dot(A_inv_eq, B_eq)\n",
        "print(\"Solution for the system of equations (x, y, z):\", X)\n"
      ],
      "metadata": {
        "colab": {
          "base_uri": "https://localhost:8080/"
        },
        "id": "SQp6IeKCljT5",
        "outputId": "68ea2442-6c6a-4f92-fbb5-352242577abb"
      },
      "execution_count": null,
      "outputs": [
        {
          "output_type": "stream",
          "name": "stdout",
          "text": [
            "A * A^(-1):\n",
            " [[1.00000000e+00 0.00000000e+00]\n",
            " [1.77635684e-15 1.00000000e+00]]\n",
            "AB:\n",
            " [[23 13]\n",
            " [51 29]]\n",
            "BA:\n",
            " [[36 44]\n",
            " [13 16]]\n",
            "AB == BA: False\n",
            "(AB)^T:\n",
            " [[23 51]\n",
            " [13 29]]\n",
            "B^T * A^T:\n",
            " [[23 51]\n",
            " [13 29]]\n",
            "(AB)^T == B^T * A^T: True\n",
            "Solution for the system of equations (x, y, z): [ 2.  1. -2.]\n"
          ]
        }
      ]
    },
    {
      "cell_type": "markdown",
      "source": [
        "##How fast is Numpy?"
      ],
      "metadata": {
        "id": "fzeG3Oh9ek3b"
      }
    },
    {
      "cell_type": "code",
      "source": [
        "import numpy as np\n",
        "import time\n",
        "\n",
        "# 1. Element-wise Addition\n",
        "size = 1_000_000\n",
        "\n",
        "# Using Python lists\n",
        "list1 = list(range(size))\n",
        "list2 = list(range(size))\n",
        "\n",
        "start_time = time.time()\n",
        "list_addition = [list1[i] + list2[i] for i in range(size)]\n",
        "end_time = time.time()\n",
        "print(f\"Python List Addition Time: {end_time - start_time:.5f} seconds\")\n",
        "\n",
        "# Using NumPy arrays\n",
        "arr1 = np.arange(size)\n",
        "arr2 = np.arange(size)\n",
        "\n",
        "start_time = time.time()\n",
        "arr_addition = arr1 + arr2\n",
        "end_time = time.time()\n",
        "print(f\"NumPy Array Addition Time: {end_time - start_time:.5f} seconds\")\n",
        "\n",
        "# 2. Element-wise Multiplication\n",
        "start_time = time.time()\n",
        "list_multiplication = [list1[i] * list2[i] for i in range(size)]\n",
        "end_time = time.time()\n",
        "print(f\"Python List Multiplication Time: {end_time - start_time:.5f} seconds\")\n",
        "\n",
        "start_time = time.time()\n",
        "arr_multiplication = arr1 * arr2\n",
        "end_time = time.time()\n",
        "print(f\"NumPy Array Multiplication Time: {end_time - start_time:.5f} seconds\")\n",
        "\n",
        "# 3. Dot Product\n",
        "start_time = time.time()\n",
        "dot_product_list = sum(list1[i] * list2[i] for i in range(size))\n",
        "end_time = time.time()\n",
        "print(f\"Python List Dot Product Time: {end_time - start_time:.5f} seconds\")\n",
        "\n",
        "start_time = time.time()\n",
        "dot_product_numpy = np.dot(arr1, arr2)\n",
        "end_time = time.time()\n",
        "print(f\"NumPy Dot Product Time: {end_time - start_time:.5f} seconds\")\n",
        "\n",
        "# 4. Matrix Multiplication\n",
        "matrix_size = 1000\n",
        "\n",
        "# Using Python lists\n",
        "matrix1 = [[i + j for j in range(matrix_size)] for i in range(matrix_size)]\n",
        "matrix2 = [[i - j for j in range(matrix_size)] for i in range(matrix_size)]\n",
        "\n",
        "start_time = time.time()\n",
        "result_matrix = [[sum(matrix1[i][k] * matrix2[k][j] for k in range(matrix_size))\n",
        "                  for j in range(matrix_size)] for i in range(matrix_size)]\n",
        "end_time = time.time()\n",
        "print(f\"Python List Matrix Multiplication Time: {end_time - start_time:.5f} seconds\")\n",
        "\n",
        "# Using NumPy arrays\n",
        "matrix1_np = np.array(matrix1)\n",
        "matrix2_np = np.array(matrix2)\n",
        "\n",
        "start_time = time.time()\n",
        "result_matrix_np = np.dot(matrix1_np, matrix2_np)\n",
        "end_time = time.time()\n",
        "print(f\"NumPy Matrix Multiplication Time: {end_time - start_time:.5f} seconds\")\n"
      ],
      "metadata": {
        "colab": {
          "base_uri": "https://localhost:8080/"
        },
        "id": "KxoJKK4meqFS",
        "outputId": "3f3f5d2a-599e-4fa0-bab3-a649fa3b6c5d"
      },
      "execution_count": null,
      "outputs": [
        {
          "output_type": "stream",
          "name": "stdout",
          "text": [
            "Python List Addition Time: 0.09094 seconds\n",
            "NumPy Array Addition Time: 0.00480 seconds\n",
            "Python List Multiplication Time: 0.07875 seconds\n",
            "NumPy Array Multiplication Time: 0.00427 seconds\n",
            "Python List Dot Product Time: 0.10529 seconds\n",
            "NumPy Dot Product Time: 0.00223 seconds\n",
            "Python List Matrix Multiplication Time: 184.65227 seconds\n",
            "NumPy Matrix Multiplication Time: 1.78362 seconds\n"
          ]
        }
      ]
    }
  ]
}